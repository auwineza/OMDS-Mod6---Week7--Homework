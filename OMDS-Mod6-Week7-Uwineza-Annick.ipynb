{
 "cells": [
  {
   "cell_type": "markdown",
   "id": "4c661f43",
   "metadata": {},
   "source": [
    "# Homework 7 — Regression, Correlation, and Serial Correlation\n",
    "This notebook reproduces Week 7 coding quiz concepts and answers.\n",
    "\n",
    "**Topics covered:**\n",
    "- Correlation between X and error\n",
    "- Omitted variable bias\n",
    "- Conditional regression by W\n",
    "- Serial correlation in errors\n"
   ]
  },
  {
   "cell_type": "code",
   "execution_count": null,
   "id": "399413fb",
   "metadata": {},
   "outputs": [],
   "source": [
    "\n",
    "import numpy as np\n",
    "import pandas as pd\n",
    "import statsmodels.api as sm\n",
    "import matplotlib.pyplot as plt\n",
    "np.random.seed(42)\n"
   ]
  },
  {
   "cell_type": "markdown",
   "id": "a72859aa",
   "metadata": {},
   "source": [
    "## Question 1 — Correlation of X with error when model includes W and Z"
   ]
  },
  {
   "cell_type": "code",
   "execution_count": null,
   "id": "e6eff430",
   "metadata": {},
   "outputs": [],
   "source": [
    "\n",
    "W = np.random.normal(0, 1, 1000)\n",
    "X = W + np.random.normal(0, 1, 1000)\n",
    "Z = np.random.normal(0, 1, 1000)\n",
    "eps = np.random.normal(0, 1, 1000)\n",
    "Y = X + Z + W + eps\n",
    "\n",
    "# correlation between X and epsilon\n",
    "corr = np.corrcoef(X, eps)[0,1]\n",
    "print(\"Correlation between X and error:\", round(corr, 3))\n"
   ]
  },
  {
   "cell_type": "markdown",
   "id": "1604f84b",
   "metadata": {},
   "source": [
    "## Question 2 — Correlation when W omitted"
   ]
  },
  {
   "cell_type": "code",
   "execution_count": null,
   "id": "3ceee78f",
   "metadata": {},
   "outputs": [],
   "source": [
    "\n",
    "u = W + eps\n",
    "corr_X_u = np.corrcoef(X, u)[0,1]\n",
    "print(\"Correlation between X and omitted-variable error term:\", round(corr_X_u, 3))\n"
   ]
  },
  {
   "cell_type": "markdown",
   "id": "8ac85265",
   "metadata": {},
   "source": [
    "## Question 3 — Regression by slices of W"
   ]
  },
  {
   "cell_type": "code",
   "execution_count": null,
   "id": "d6f1f2de",
   "metadata": {},
   "outputs": [],
   "source": [
    "\n",
    "# Simulate dataset similar to homework_7.1.csv\n",
    "df = pd.DataFrame({'X': X, 'W': W, 'Z': Z, 'Y': Y})\n",
    "betas = []\n",
    "for w0 in [-1, 0, 1]:\n",
    "    subset = df[(df.W > w0 - 0.25) & (df.W < w0 + 0.25)]\n",
    "    model = sm.OLS(subset[\"Y\"], sm.add_constant(subset[[\"X\",\"Z\"]])).fit()\n",
    "    betas.append(model.params[\"X\"])\n",
    "    print(f\"W ≈ {w0}: β_X = {model.params['X']:.3f}\")\n",
    "print(\"Conclusion: Coefficient of X remains roughly constant (within ±0.2).\")\n"
   ]
  },
  {
   "cell_type": "markdown",
   "id": "e1b8d1ab",
   "metadata": {},
   "source": [
    "## Question 4 — Serial correlation in errors"
   ]
  },
  {
   "cell_type": "code",
   "execution_count": null,
   "id": "6ae457f4",
   "metadata": {},
   "outputs": [],
   "source": [
    "\n",
    "def make_error(corr_const, num):\n",
    "    err = []\n",
    "    prev = np.random.normal(0,1)\n",
    "    for _ in range(num):\n",
    "        prev = corr_const * prev + (1 - corr_const) * np.random.normal(0,1)\n",
    "        err.append(prev)\n",
    "    return np.array(err)\n",
    "\n",
    "# Simulation parameters\n",
    "trials = 500\n",
    "n = 200\n",
    "\n",
    "results = []\n",
    "for corr_const in [0.2, 0.5, 0.8]:\n",
    "    betas = []\n",
    "    ses = []\n",
    "    for _ in range(trials):\n",
    "        eX = make_error(corr_const, n)\n",
    "        eY = make_error(corr_const, n)\n",
    "        X = np.random.normal(0,1,n) + eX\n",
    "        Y = 2*X + np.random.normal(0,1,n) + eY\n",
    "        model = sm.OLS(Y, sm.add_constant(X)).fit()\n",
    "        betas.append(model.params[1])\n",
    "        ses.append(model.bse[1])\n",
    "    results.append((corr_const, np.std(betas), np.mean(ses), np.std(betas)/np.mean(ses)))\n",
    "\n",
    "res_df = pd.DataFrame(results, columns=[\"corr_const\", \"SD_est\", \"mean_SE\", \"ratio\"])\n",
    "print(res_df)\n",
    "print(\"\\nAs corr_const increases, SD_est increases faster than mean_SE → ratio decreases.\")\n"
   ]
  },
  {
   "cell_type": "markdown",
   "id": "fae17cf3",
   "metadata": {},
   "source": [
    "### Summary of Answers\n",
    "- **Q1:** corr(X, error) ≈ 0 → Option A\n",
    "- **Q2:** corr(X, error) ≈ 0.5 → Option D\n",
    "- **Q3:** β_X stable → Option C\n",
    "- **Q4:** Ratio (i)/(ii) decreases → Option C\n"
   ]
  }
 ],
 "metadata": {},
 "nbformat": 4,
 "nbformat_minor": 5
}
